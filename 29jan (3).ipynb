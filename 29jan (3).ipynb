{
 "cells": [
  {
   "cell_type": "code",
   "execution_count": 1,
   "id": "f44fa37b-5552-4e8f-8f16-be26d88ad784",
   "metadata": {},
   "outputs": [],
   "source": [
    "'''1. who developed python programming language?\n",
    "answer-guido van rossum'''"
   ]
  },
  {
   "cell_type": "code",
   "execution_count": 2,
   "id": "7de4ebfe-1562-4da8-b0bb-88888dbb7138",
   "metadata": {},
   "outputs": [],
   "source": [
    "#2. which type of programming does python support?\n",
    "#answer-it is imperative,functional,object_oriented and procedural."
   ]
  },
  {
   "cell_type": "code",
   "execution_count": 3,
   "id": "750e7876-2c9c-42db-b4bb-02b5acda89cd",
   "metadata": {},
   "outputs": [],
   "source": [
    "#3. is python is case sensitive when dealing with identifiers?\n",
    "#answer-yes it is because it consider uppercase and lower case characters differently\n"
   ]
  },
  {
   "cell_type": "code",
   "execution_count": 4,
   "id": "a7e95236-65c0-403d-bdb9-b2c253ea6cdb",
   "metadata": {},
   "outputs": [],
   "source": [
    "#4. what is the correct extenstion of python file?\n",
    "#answer-py is the extenstion of python file"
   ]
  },
  {
   "cell_type": "code",
   "execution_count": 5,
   "id": "66367c53-b9ee-46fa-bbc8-c9fee1cb22bc",
   "metadata": {},
   "outputs": [],
   "source": [
    "#5. is python compiled or interpreted?\n",
    "#answer-python is interpreted language and not a compiled,although it is a step."
   ]
  },
  {
   "cell_type": "code",
   "execution_count": 8,
   "id": "afce9511-daae-4bbc-a7bb-169903d81346",
   "metadata": {},
   "outputs": [
    {
     "name": "stdout",
     "output_type": "stream",
     "text": [
      "eat\n",
      "well done\n"
     ]
    }
   ],
   "source": [
    "#6. name a few blocks of code used to define in python language?\n",
    "#answer-indentation is use to define block of code in python\n",
    "a=\"apple\"\n",
    "if a==\"apple\":\n",
    "    print(\"eat\")\n",
    "else:\n",
    "    print(\"nothing to eat\")\n",
    "print(\"well done\")"
   ]
  },
  {
   "cell_type": "code",
   "execution_count": 9,
   "id": "9db44320-886c-4aa5-b1b1-995d4691c477",
   "metadata": {},
   "outputs": [],
   "source": [
    "#7. state a character use to give single-line comment?\n",
    "#answer-hash character(#)"
   ]
  },
  {
   "cell_type": "code",
   "execution_count": 11,
   "id": "fd5e7719-6f43-4db4-a0f4-68c6f831f419",
   "metadata": {},
   "outputs": [],
   "source": [
    "#8. mention functions which can help us to find the version of python that we are currently working on?\n",
    "#answer-1 sys.version method\n",
    "#       2 python_version()\n",
    "#       3 python v command"
   ]
  },
  {
   "cell_type": "code",
   "execution_count": 12,
   "id": "e0c4d2ba-9de6-4f46-a3f8-b0c7efcfe74a",
   "metadata": {},
   "outputs": [],
   "source": [
    "#9. python supports the creation of anonymous functions at runtime,using a construct called\n",
    "# answer - lambda function"
   ]
  },
  {
   "cell_type": "code",
   "execution_count": 13,
   "id": "8fac369e-6c9e-46e1-b93b-071bef1e158c",
   "metadata": {},
   "outputs": [],
   "source": [
    "#10. what does pips stand for python\n",
    "# answer- preferred installer program"
   ]
  },
  {
   "cell_type": "code",
   "execution_count": 14,
   "id": "b7ee7bde-2ce5-4dee-9072-1ae320c1bd22",
   "metadata": {},
   "outputs": [],
   "source": [
    "#11. mention a few build-in function in python\n",
    "#answer - print(), input(), type(),len(), and many more"
   ]
  },
  {
   "cell_type": "code",
   "execution_count": 15,
   "id": "d6c24c8d-ae99-4210-ab9a-00e6c1f42431",
   "metadata": {},
   "outputs": [],
   "source": [
    "#12. what is maximum possible length of an identifier in python\n",
    "#answer- 79 characters"
   ]
  },
  {
   "cell_type": "code",
   "execution_count": 16,
   "id": "bb743660-aa87-4d45-8459-2c620d8cab88",
   "metadata": {},
   "outputs": [],
   "source": [
    "#13. what are the benefits of using python?\n",
    "#answer- simple,clean and fast to write"
   ]
  },
  {
   "cell_type": "code",
   "execution_count": 17,
   "id": "b4749ac0-f2ec-418e-8600-2ae5c6546b31",
   "metadata": {},
   "outputs": [],
   "source": [
    "#14. how is memory managed in python?\n",
    "#answer- memory in python is managed by python heap space .all python objects and data structures are located in a private heap.this private heap is taken care by python interpretor itself, and a programmer does not have access to this private heap."
   ]
  },
  {
   "cell_type": "code",
   "execution_count": 18,
   "id": "9f3b6437-1973-42f1-90a8-7c7a21d3c20d",
   "metadata": {},
   "outputs": [],
   "source": [
    "#16. is indentation required in python?\n",
    "#answer- indentation is very important concept of python because without properly indenting the python code ,one will end up seeing indentational error and the code will not get compiled"
   ]
  },
  {
   "cell_type": "code",
   "execution_count": null,
   "id": "7520c1f8-2c0e-465d-a714-68746a2b5be3",
   "metadata": {},
   "outputs": [],
   "source": []
  }
 ],
 "metadata": {
  "kernelspec": {
   "display_name": "Python 3 (ipykernel)",
   "language": "python",
   "name": "python3"
  },
  "language_info": {
   "codemirror_mode": {
    "name": "ipython",
    "version": 3
   },
   "file_extension": ".py",
   "mimetype": "text/x-python",
   "name": "python",
   "nbconvert_exporter": "python",
   "pygments_lexer": "ipython3",
   "version": "3.10.8"
  }
 },
 "nbformat": 4,
 "nbformat_minor": 5
}
