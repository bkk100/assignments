{
 "cells": [
  {
   "cell_type": "code",
   "execution_count": 1,
   "id": "b7975b0e-7216-48f1-b579-9f8c3144398d",
   "metadata": {},
   "outputs": [],
   "source": [
    "# 1.  Explain with an example each when to use a for loop and a while loop."
   ]
  },
  {
   "cell_type": "code",
   "execution_count": 4,
   "id": "d84dcc18-be06-4e5a-ae7f-2e73c652697b",
   "metadata": {},
   "outputs": [
    {
     "name": "stdout",
     "output_type": "stream",
     "text": [
      "1\n",
      "2\n",
      "3\n",
      "4\n",
      "5\n",
      "6\n",
      "7\n",
      "8\n",
      "9\n",
      "10\n"
     ]
    }
   ],
   "source": [
    "\n",
    "#for loop\n",
    "for num in range (1,11):\n",
    "    print(num)\n",
    "# here we know about the number of itterations\n"
   ]
  },
  {
   "cell_type": "code",
   "execution_count": 2,
   "id": "d74a06b7-1d59-462b-8cde-352d5e02dfb4",
   "metadata": {},
   "outputs": [
    {
     "name": "stdin",
     "output_type": "stream",
     "text": [
      "enter your name? bhh\n"
     ]
    },
    {
     "name": "stdout",
     "output_type": "stream",
     "text": [
      "name bhh\n"
     ]
    }
   ],
   "source": [
    "#while loop\n",
    "while True:\n",
    "    name=input(\"enter your name?\")\n",
    "    if name.isalpha():\n",
    "        print(\"name\",name)\n",
    "        break\n",
    "    else:\n",
    "        print(\"name can not be integer\")\n",
    "        continue\n",
    "#here we don not know about number of itterations"
   ]
  },
  {
   "cell_type": "code",
   "execution_count": 3,
   "id": "895e6f36-1ff1-4383-8e7c-725826f623ee",
   "metadata": {},
   "outputs": [],
   "source": [
    "#  Q2.  Write a python program to print the sum and product of the first 10 natural numbers using for \n",
    "#and while loop."
   ]
  },
  {
   "cell_type": "code",
   "execution_count": 18,
   "id": "6f1d88c2-6716-4df9-9519-06a9b336b85d",
   "metadata": {},
   "outputs": [
    {
     "name": "stdin",
     "output_type": "stream",
     "text": [
      "give number 10\n"
     ]
    },
    {
     "name": "stdout",
     "output_type": "stream",
     "text": [
      "sum 55\n",
      "product 3628800\n"
     ]
    }
   ],
   "source": [
    "# sum and product of natural number by using for loop\n",
    "n=int(input(\"give number\"))\n",
    "sum=0\n",
    "for i in range(1,n+1):\n",
    "    sum=sum+i\n",
    "    i=i+1\n",
    "print(\"sum\",sum)\n",
    "product=1\n",
    "for i in range(1,n+1):\n",
    "    product=product*i\n",
    "    i=i+1\n",
    "print(\"product\",product)\n",
    "    \n",
    "    "
   ]
  },
  {
   "cell_type": "code",
   "execution_count": 19,
   "id": "c3982741-1529-4948-80c5-18aa11b224df",
   "metadata": {},
   "outputs": [
    {
     "name": "stdin",
     "output_type": "stream",
     "text": [
      "give number 10\n"
     ]
    },
    {
     "name": "stdout",
     "output_type": "stream",
     "text": [
      "sum= 55\n",
      "product= 3628800\n"
     ]
    }
   ],
   "source": [
    "# sum and product of natural number by using while loop\n",
    "n=int(input(\"give number\"))\n",
    "sum=0\n",
    "i=1\n",
    "while(i<=n):\n",
    "    sum=sum+i\n",
    "    i=i+1\n",
    "print(\"sum=\",sum)\n",
    "product=1\n",
    "j=1\n",
    "while(j<=n):\n",
    "    product=product*j\n",
    "    j=j+1\n",
    "print(\"product=\",product)\n",
    "    \n",
    "    "
   ]
  },
  {
   "cell_type": "code",
   "execution_count": 20,
   "id": "198ec1aa-8243-4bbb-b7cb-9665fe57c75f",
   "metadata": {},
   "outputs": [],
   "source": [
    "#3 Create a python program to compute the electricity bill for a household\n",
    "'''The per-unit charges in rupees are as follows: For the first 100 units, the user will be charged Rs. 4.5 per \n",
    "unit, for the next 100 units, the user will be charged Rs. 6 per unit, and for the next 100 units, the user will \n",
    "be charged Rs. 10 per unit, After 300 units and above the user will be charged Rs. 20 per unit.\n",
    "\n",
    "\n",
    "You are required to take the units of electricity consumed in a month from the user as input.\n",
    "\n",
    "\n",
    "Your program must pass this test case: when the unit of electricity consumed by the user in a month is \n",
    "310, the total electricity bill should be 2250.'''"
   ]
  },
  {
   "cell_type": "code",
   "execution_count": 3,
   "id": "33fd675d-9608-4b9e-855a-b637962aa236",
   "metadata": {},
   "outputs": [
    {
     "name": "stdin",
     "output_type": "stream",
     "text": [
      "Enter the number of units consumed:  310\n"
     ]
    },
    {
     "name": "stdout",
     "output_type": "stream",
     "text": [
      "Total electricity bill: Rs. 2250.00\n"
     ]
    }
   ],
   "source": [
    "units = int(input(\"Enter the number of units consumed: \"))\n",
    "\n",
    "if units <= 100:\n",
    "    bill = units * 4.5\n",
    "elif units <= 200:\n",
    "    bill = 100 * 4.5 + (units - 100) * 6\n",
    "elif units <= 300:\n",
    "    bill = 100 * 4.5 + 100 * 6 + (units - 200) * 10\n",
    "else:\n",
    "    bill = 100 * 4.5 + 100 * 6 + 100 * 10 + (units - 300) * 20\n",
    "\n",
    "print(\"Total electricity bill: Rs. {:.2f}\".format(bill))\n",
    "    \n",
    "    \n"
   ]
  },
  {
   "cell_type": "code",
   "execution_count": 36,
   "id": "9672b7be-a0be-41df-9d0a-2090e931f135",
   "metadata": {},
   "outputs": [],
   "source": [
    "# Q4. Create a list of numbers from 1 to 100. Use for loop and while loop to calculate the cube of each \n",
    "#number and if the cube of that number is divisible by 4 or 5 then append that number in a list and print \n",
    "#that list.\n"
   ]
  },
  {
   "cell_type": "code",
   "execution_count": 2,
   "id": "479d5709-d1d3-4f4b-b8e5-b28258e35aee",
   "metadata": {},
   "outputs": [
    {
     "name": "stdout",
     "output_type": "stream",
     "text": [
      "[2, 4, 5, 6, 8, 10, 12, 14, 15, 16, 18, 20, 22, 24, 25, 26, 28, 30, 32, 34, 35, 36, 38, 40, 42, 44, 45, 46, 48, 50, 52, 54, 55, 56, 58, 60, 62, 64, 65, 66, 68, 70, 72, 74, 75, 76, 78, 80, 82, 84, 85, 86, 88, 90, 92, 94, 95, 96, 98, 100]\n",
      "[2, 4, 5, 6, 8, 10, 12, 14, 15, 16, 18, 20, 22, 24, 25, 26, 28, 30, 32, 34, 35, 36, 38, 40, 42, 44, 45, 46, 48, 50, 52, 54, 55, 56, 58, 60, 62, 64, 65, 66, 68, 70, 72, 74, 75, 76, 78, 80, 82, 84, 85, 86, 88, 90, 92, 94, 95, 96, 98, 100]\n"
     ]
    }
   ],
   "source": [
    "# using for loop\n",
    "numbers = list(range(1, 101))\n",
    "cube_divisible_by_4_or_5 = []\n",
    "for num in numbers:\n",
    "    cube = num ** 3\n",
    "    if cube % 4 == 0 or cube % 5 == 0:\n",
    "        cube_divisible_by_4_or_5.append(num)\n",
    "print(cube_divisible_by_4_or_5)\n",
    "\n",
    "# using while loop\n",
    "numbers = list(range(1, 101))\n",
    "cube_divisible_by_4_or_5 = []\n",
    "i = 0\n",
    "while i < len(numbers):\n",
    "    num = numbers[i]\n",
    "    cube = num ** 3\n",
    "    if cube % 4 == 0 or cube % 5 == 0:\n",
    "        cube_divisible_by_4_or_5.append(num)\n",
    "    i += 1\n",
    "print(cube_divisible_by_4_or_5)"
   ]
  },
  {
   "cell_type": "code",
   "execution_count": 4,
   "id": "482f895f-345d-4553-be51-5e976fac71a2",
   "metadata": {},
   "outputs": [],
   "source": [
    "#Q5.  Write a program to filter count vowels in the below-given string.\n",
    "\n",
    "#string = \"I want to become a data scientist\""
   ]
  },
  {
   "cell_type": "code",
   "execution_count": 6,
   "id": "4df09e79-b6d5-4e9e-ab8b-5953eaf2b10e",
   "metadata": {},
   "outputs": [
    {
     "name": "stdout",
     "output_type": "stream",
     "text": [
      "The number of vowels in the string is: 12\n"
     ]
    }
   ],
   "source": [
    "string = \"I want to become a data scientist\"\n",
    "string = string.lower()\n",
    "vowels = ['a', 'e', 'i', 'o', 'u']\n",
    "count = 0\n",
    "for char in string:\n",
    "    if char in vowels:\n",
    "        count += 1\n",
    "print(\"The number of vowels in the string is:\", count)"
   ]
  },
  {
   "cell_type": "code",
   "execution_count": null,
   "id": "c6316618-f329-4173-a2e6-802fa4778372",
   "metadata": {},
   "outputs": [],
   "source": []
  }
 ],
 "metadata": {
  "kernelspec": {
   "display_name": "Python 3 (ipykernel)",
   "language": "python",
   "name": "python3"
  },
  "language_info": {
   "codemirror_mode": {
    "name": "ipython",
    "version": 3
   },
   "file_extension": ".py",
   "mimetype": "text/x-python",
   "name": "python",
   "nbconvert_exporter": "python",
   "pygments_lexer": "ipython3",
   "version": "3.10.8"
  }
 },
 "nbformat": 4,
 "nbformat_minor": 5
}
