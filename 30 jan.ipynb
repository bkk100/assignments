{
 "cells": [
  {
   "cell_type": "code",
   "execution_count": 1,
   "id": "836774c7-d3cd-46d4-8064-0faa3eb2818f",
   "metadata": {},
   "outputs": [],
   "source": [
    "# 1 answer"
   ]
  },
  {
   "cell_type": "code",
   "execution_count": 2,
   "id": "b81afdc1-5b99-40b1-978c-2f11bb9868e2",
   "metadata": {},
   "outputs": [
    {
     "name": "stdin",
     "output_type": "stream",
     "text": [
      "type the marks 45\n"
     ]
    },
    {
     "name": "stdout",
     "output_type": "stream",
     "text": [
      "you got B grade\n"
     ]
    }
   ],
   "source": [
    "percentage=int(input(\"type the marks\"))\n",
    "if percentage>90:\n",
    "    print(\"you got A grade\")\n",
    "elif (percentage>80) or (percentage<=90):\n",
    "    print(\"you got B grade\")\n",
    "elif (percentage>=60) or (percentage<=80):\n",
    "    print(\"you got C grade\")\n",
    "else:\n",
    "    print(\"you got D grade\")"
   ]
  },
  {
   "cell_type": "code",
   "execution_count": 3,
   "id": "d98630c5-34ca-4acf-a8a9-64820acffdad",
   "metadata": {},
   "outputs": [],
   "source": [
    "# 2 answer"
   ]
  },
  {
   "cell_type": "code",
   "execution_count": 8,
   "id": "11902b31-bac2-4d09-9ddf-dc81b8708390",
   "metadata": {},
   "outputs": [
    {
     "name": "stdin",
     "output_type": "stream",
     "text": [
      "type the cost price in inr = 12345678\n"
     ]
    },
    {
     "name": "stdout",
     "output_type": "stream",
     "text": [
      "total tax of 15 % is 1851851.7\n"
     ]
    }
   ],
   "source": [
    "price=int(input(\"type the cost price in inr =\"))\n",
    "if  price>100000:\n",
    "    tax=price*15/100\n",
    "    print(\"total tax of 15 % is \"+ str(tax))\n",
    "elif (price>50000) and (price<=100000):\n",
    "    tax=str(price*10/100)\n",
    "    print(\"total tax of 10 % is \"+tax)\n",
    "elif (price<=50000):\n",
    "    tax=str(price*5/100)\n",
    "    print(\"total tax of 5 % is  \"+tax)"
   ]
  },
  {
   "cell_type": "code",
   "execution_count": 16,
   "id": "5d8509f2-20ac-4cd4-af40-75d06ca50345",
   "metadata": {},
   "outputs": [],
   "source": [
    "#3 answer"
   ]
  },
  {
   "cell_type": "code",
   "execution_count": 15,
   "id": "edc90552-e3b0-475a-a417-def429758fcb",
   "metadata": {},
   "outputs": [
    {
     "name": "stdin",
     "output_type": "stream",
     "text": [
      "type any city from the list? delhi\n"
     ]
    },
    {
     "name": "stdout",
     "output_type": "stream",
     "text": [
      "RED FORT\n"
     ]
    }
   ],
   "source": [
    "city=input(\"type any city from the list and will show famous monument?\")\n",
    "if city==\"delhi\":\n",
    "    print(\"RED FORT\")\n",
    "elif city==\"agra\":\n",
    "    print(\"TAJ MAHAL\")\n",
    "elif city== \"jaipur\":\n",
    "    print(\"JAL MAHAL\")\n",
    "else:\n",
    "    print(\"city not given on list\")"
   ]
  },
  {
   "cell_type": "code",
   "execution_count": 17,
   "id": "58cbf4c0-d7fb-4e80-9723-2386cab69bec",
   "metadata": {},
   "outputs": [],
   "source": [
    "#4 answer"
   ]
  },
  {
   "cell_type": "code",
   "execution_count": 12,
   "id": "bd889507-0035-46bd-988e-79500126757e",
   "metadata": {},
   "outputs": [
    {
     "name": "stdin",
     "output_type": "stream",
     "text": [
      "enter any desired number? 45\n"
     ]
    },
    {
     "name": "stdout",
     "output_type": "stream",
     "text": [
      "12\n",
      "15\n",
      "18\n",
      "21\n",
      "24\n",
      "27\n",
      "30\n",
      "33\n",
      "36\n",
      "39\n",
      "42\n",
      "45\n",
      "None\n"
     ]
    }
   ],
   "source": [
    "number=int(input(\"enter any desired number?\"))\n",
    "sum=0\n",
    "for i in range(10,number+1):\n",
    "    if i<10:\n",
    "        print(\"number less than 10\")\n",
    "    elif (i>=10) and(i%3==0):\n",
    "                print(i)\n",
    "l=[]\n",
    "a=l.append(i)\n",
    "print(a)\n"
   ]
  },
  {
   "cell_type": "code",
   "execution_count": null,
   "id": "b2843d28-aea3-4ad7-811f-6e6aa3b33ae6",
   "metadata": {},
   "outputs": [],
   "source": [
    "#5 answer\n"
   ]
  },
  {
   "cell_type": "code",
   "execution_count": null,
   "id": "45dfdea9-859e-44c4-b191-e0eb2b91b49b",
   "metadata": {},
   "outputs": [],
   "source": [
    "#while loop is helpful in repeating the specific block of code an unknown number of times,until the condition is met\n",
    "i=1\n",
    "while True:\n",
    "    print(\"bhupesh\")"
   ]
  },
  {
   "cell_type": "code",
   "execution_count": null,
   "id": "dc03f55c-304f-4d3a-8d89-8f0c7875923e",
   "metadata": {},
   "outputs": [],
   "source": [
    "\n",
    "\n"
   ]
  },
  {
   "cell_type": "code",
   "execution_count": null,
   "id": "0204ceae-502a-47fd-a7c7-b819e53c17ef",
   "metadata": {},
   "outputs": [],
   "source": [
    "#6 answer"
   ]
  },
  {
   "cell_type": "code",
   "execution_count": 5,
   "id": "3fd6748f-d5a6-45d0-9f2f-5e9ee30a6ef7",
   "metadata": {},
   "outputs": [
    {
     "name": "stdin",
     "output_type": "stream",
     "text": [
      "enter any number by which you want to make pattern 4\n"
     ]
    },
    {
     "name": "stdout",
     "output_type": "stream",
     "text": [
      "1 \n",
      "1 2 \n",
      "1 2 3 \n",
      "1 2 3 4 \n"
     ]
    }
   ],
   "source": [
    "n=int(input(\"enter any number by which you want to make pattern\"))\n",
    "i=1\n",
    "while i<=n:\n",
    "    j=1\n",
    "    while j<=i:\n",
    "        print(j,end=\" \")\n",
    "        j+=1\n",
    "    print()\n",
    "    i+=1"
   ]
  },
  {
   "cell_type": "code",
   "execution_count": 1,
   "id": "8392ff85-1a02-4563-b9b0-ee0dbfc77cd3",
   "metadata": {},
   "outputs": [
    {
     "name": "stdin",
     "output_type": "stream",
     "text": [
      "enter any number by which you want to make pattern 4\n"
     ]
    },
    {
     "name": "stdout",
     "output_type": "stream",
     "text": [
      "   * \n",
      "  * * \n",
      " * * * \n",
      "* * * * \n"
     ]
    }
   ],
   "source": [
    "n=int(input(\"enter any number by which you want to make pattern\"))\n",
    "row=0\n",
    "while row<n:\n",
    "    space=n-row-1\n",
    "    while space>0:\n",
    "        print(end=\" \")\n",
    "        space-=1\n",
    "    star=row+1\n",
    "    while star>0:\n",
    "        print(\"*\",end=\" \")\n",
    "        star=star-1\n",
    "    row=row+1\n",
    "    print()"
   ]
  },
  {
   "cell_type": "code",
   "execution_count": 5,
   "id": "24860c6f-c412-4133-b615-88c2fdbb469c",
   "metadata": {},
   "outputs": [
    {
     "name": "stdin",
     "output_type": "stream",
     "text": [
      "enter any number by which you want to make pattern 4\n"
     ]
    },
    {
     "name": "stdout",
     "output_type": "stream",
     "text": [
      "      * \n",
      "    * * \n",
      "  * * * \n",
      "* * * * \n"
     ]
    }
   ],
   "source": [
    "n=int(input(\"enter any number by which you want to make pattern\"))\n",
    "i=0\n",
    "while i<n:\n",
    "    k=(n-1)-i\n",
    "    while k>0:\n",
    "        print(\" \",end=\" \")\n",
    "        k=k-1\n",
    "    j=i+1\n",
    "    while(j>0):\n",
    "        print(\"*\",end=\" \")\n",
    "        j=j-1\n",
    "    i=i+1\n",
    "    print()\n",
    "    "
   ]
  },
  {
   "cell_type": "code",
   "execution_count": 6,
   "id": "dbfdcc49-0f19-4be7-ab3c-7d563a0e813a",
   "metadata": {},
   "outputs": [
    {
     "name": "stdin",
     "output_type": "stream",
     "text": [
      "enter any number by which you want to make pattern 4\n"
     ]
    },
    {
     "name": "stdout",
     "output_type": "stream",
     "text": [
      "* * * * \n",
      "* * * \n",
      "* * \n",
      "* \n"
     ]
    }
   ],
   "source": [
    "n=int(input(\"enter any number by which you want to make pattern\"))\n",
    "i=0\n",
    "while i<n:\n",
    "    j=(n-i)\n",
    "    while(j>=1):\n",
    "        print(\"*\",end=\" \")\n",
    "        j=j-1\n",
    "    i=i+1\n",
    "    print()\n",
    "    "
   ]
  },
  {
   "cell_type": "code",
   "execution_count": 1,
   "id": "0012ab15-0373-42f3-b662-2d2b1232b262",
   "metadata": {},
   "outputs": [],
   "source": [
    "#7 answer"
   ]
  },
  {
   "cell_type": "code",
   "execution_count": 2,
   "id": "f00af245-2be8-48a5-b8ce-3bceaeb33982",
   "metadata": {},
   "outputs": [
    {
     "name": "stdout",
     "output_type": "stream",
     "text": [
      "10\n",
      "9\n",
      "8\n",
      "7\n",
      "6\n",
      "5\n",
      "4\n",
      "3\n",
      "2\n",
      "1\n"
     ]
    }
   ],
   "source": [
    "i=10\n",
    "while i>0:\n",
    "    print(i)\n",
    "    i-=1"
   ]
  },
  {
   "cell_type": "code",
   "execution_count": 3,
   "id": "f1e92761-9199-480c-9d20-71af7d1cbefa",
   "metadata": {},
   "outputs": [],
   "source": [
    "#or"
   ]
  },
  {
   "cell_type": "code",
   "execution_count": 13,
   "id": "6756aaad-9868-4600-a7b7-0f16ca77a931",
   "metadata": {},
   "outputs": [
    {
     "name": "stdin",
     "output_type": "stream",
     "text": [
      "enter number 456\n"
     ]
    },
    {
     "name": "stdout",
     "output_type": "stream",
     "text": [
      "reverse= 654\n"
     ]
    }
   ],
   "source": [
    "i=int(input(\"enter number\"))\n",
    "rev=0\n",
    "while i>0:\n",
    "    rev=(rev*10)+i%10\n",
    "    i=i//10\n",
    "print(\"reverse=\",rev)"
   ]
  },
  {
   "cell_type": "code",
   "execution_count": null,
   "id": "83953d9a-31ab-47a6-8345-cb948a3c2a9f",
   "metadata": {},
   "outputs": [],
   "source": []
  }
 ],
 "metadata": {
  "kernelspec": {
   "display_name": "Python 3 (ipykernel)",
   "language": "python",
   "name": "python3"
  },
  "language_info": {
   "codemirror_mode": {
    "name": "ipython",
    "version": 3
   },
   "file_extension": ".py",
   "mimetype": "text/x-python",
   "name": "python",
   "nbconvert_exporter": "python",
   "pygments_lexer": "ipython3",
   "version": "3.10.8"
  },
  "toc-autonumbering": false,
  "toc-showcode": false,
  "toc-showmarkdowntxt": false
 },
 "nbformat": 4,
 "nbformat_minor": 5
}
