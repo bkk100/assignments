{
 "cells": [
  {
   "cell_type": "code",
   "execution_count": 16,
   "id": "db11e886-9d32-4f19-8d3d-b3ed3a542fc0",
   "metadata": {},
   "outputs": [],
   "source": [
    "# Q1. Create a python program to sort the given list of tuples based on integer value using a \n",
    "#lambda function. \n",
    "\n",
    "\n",
    "#[('Sachin Tendulkar', 34357), ('Ricky Ponting', 27483), ('Jack Kallis', 25534), ('Virat Kohli', 24936)]"
   ]
  },
  {
   "cell_type": "code",
   "execution_count": 5,
   "id": "18623e43-d7c1-4898-a42e-65f1b85f5aa0",
   "metadata": {},
   "outputs": [
    {
     "name": "stdout",
     "output_type": "stream",
     "text": [
      "[('virat kohli', 24936), ('jack kallis', 25534), ('ricky pointing', 27483), ('sachin tendulkar', 34357)]\n"
     ]
    }
   ],
   "source": [
    "l=[(\"sachin tendulkar\",34357),(\"ricky pointing\",27483),(\"jack kallis\",25534),(\"virat kohli\",24936)]\n",
    "l.sort(key=lambda x:x[1])\n",
    "print(l)"
   ]
  },
  {
   "cell_type": "code",
   "execution_count": null,
   "id": "6a260a0d-8908-4a80-8394-b685a44a087e",
   "metadata": {},
   "outputs": [],
   "source": []
  },
  {
   "cell_type": "code",
   "execution_count": 6,
   "id": "2958e75a-3d2e-4e13-8506-490c121d7cda",
   "metadata": {},
   "outputs": [],
   "source": [
    "# Q2. Write a Python Program to find the squares of all the numbers in the given list of integers using \n",
    "#lambda and map functions.\n",
    "\n",
    "\n",
    "#[1, 2, 3, 4, 5, 6, 7, 8, 9, 10]"
   ]
  },
  {
   "cell_type": "code",
   "execution_count": 7,
   "id": "fe8b2ad6-6e81-45e1-bbf5-38e79a3a2538",
   "metadata": {},
   "outputs": [],
   "source": [
    "l=[1,2,3,4,5,6,7,8,9,10]"
   ]
  },
  {
   "cell_type": "code",
   "execution_count": 8,
   "id": "a5b199aa-9162-4189-9e5e-451c408056fe",
   "metadata": {},
   "outputs": [
    {
     "data": {
      "text/plain": [
       "[1, 4, 9, 16, 25, 36, 49, 64, 81, 100]"
      ]
     },
     "execution_count": 8,
     "metadata": {},
     "output_type": "execute_result"
    }
   ],
   "source": [
    "list(map(lambda x:x**2,l))"
   ]
  },
  {
   "cell_type": "code",
   "execution_count": 9,
   "id": "5ce529aa-4fa3-4a2e-96b8-7ca02200566d",
   "metadata": {},
   "outputs": [],
   "source": [
    "#Q3. Write a python program to convert the given list of integers into a tuple of strings. Use map and \n",
    "#lambda functions\n",
    "\n",
    "\n",
    "#Given String: [1, 2, 3, 4, 5, 6, 7, 8, 9, 10]\n",
    "\n",
    "#Expected output: ('1', '2', '3', '4', '5', '6', '7', '8', '9', '10')"
   ]
  },
  {
   "cell_type": "code",
   "execution_count": 4,
   "id": "fed377ff-7e00-454b-8c70-50d62cb34c98",
   "metadata": {},
   "outputs": [],
   "source": [
    "l=[1,2,3,4,5,6,7,8,9,10]"
   ]
  },
  {
   "cell_type": "code",
   "execution_count": 10,
   "id": "48421b2c-8cca-40bd-8838-a79e0db1586f",
   "metadata": {},
   "outputs": [
    {
     "name": "stdout",
     "output_type": "stream",
     "text": [
      "('1', '2', '3', '4', '5', '6', '7', '8', '9', '10')\n"
     ]
    }
   ],
   "source": [
    "a=tuple(map(lambda x:str(x) ,l))\n",
    "print(a)    \n",
    "    "
   ]
  },
  {
   "cell_type": "code",
   "execution_count": 11,
   "id": "91de85a0-c269-464d-8ed1-df6ed5adb54f",
   "metadata": {},
   "outputs": [],
   "source": [
    "#Q4.  Write a python program using reduce function to compute the product of a list containing numbers \n",
    "#from 1 to 25."
   ]
  },
  {
   "cell_type": "code",
   "execution_count": 3,
   "id": "56ebd5f1-9db3-4986-801f-ea4ea260d733",
   "metadata": {},
   "outputs": [],
   "source": [
    "from functools import reduce"
   ]
  },
  {
   "cell_type": "code",
   "execution_count": 4,
   "id": "b1a5c60a-3a07-4539-8e90-e75d3de8494f",
   "metadata": {},
   "outputs": [
    {
     "data": {
      "text/plain": [
       "15511210043330985984000000"
      ]
     },
     "execution_count": 4,
     "metadata": {},
     "output_type": "execute_result"
    }
   ],
   "source": [
    "reduce(lambda x,y:x*y ,range(1,26))"
   ]
  },
  {
   "cell_type": "code",
   "execution_count": 13,
   "id": "3e52adfe-33c6-4b35-b467-40b1df27805c",
   "metadata": {},
   "outputs": [],
   "source": [
    "# 5. Write a python program to filter the numbers in a given list that are divisible by 2 and 3 using the \n",
    "#filter function.\n",
    "\n",
    "\n",
    "#[2, 3, 6, 9, 27, 60, 90, 120, 55, 46]"
   ]
  },
  {
   "cell_type": "code",
   "execution_count": 16,
   "id": "536b87c6-58b7-4510-954d-7c7a68dee4fb",
   "metadata": {},
   "outputs": [],
   "source": [
    "l=[2,3,6,9,27,60,90,120,55,46]"
   ]
  },
  {
   "cell_type": "code",
   "execution_count": 17,
   "id": "b5aeaede-3dfa-4f6a-92cc-a49e458a6051",
   "metadata": {},
   "outputs": [
    {
     "name": "stdout",
     "output_type": "stream",
     "text": [
      "[6, 60, 90, 120]\n"
     ]
    }
   ],
   "source": [
    "result=list(filter(lambda x:x%2==0 and x%3==0,l))\n",
    "print(result)\n",
    "\n",
    "\n",
    "    "
   ]
  },
  {
   "cell_type": "code",
   "execution_count": 18,
   "id": "f43b7a17-1e1b-41c3-8caf-bffdfa112a51",
   "metadata": {},
   "outputs": [],
   "source": [
    "# 6. Write a python program to find palindromes in the given list of strings using lambda and filter \n",
    "#function.\n",
    "\n",
    "\n",
    "#['python', 'php', 'aba', 'radar', 'level']"
   ]
  },
  {
   "cell_type": "code",
   "execution_count": 19,
   "id": "0d22b420-49b6-4bec-8128-aa8defd513eb",
   "metadata": {},
   "outputs": [],
   "source": [
    "l=[\"python\",\"php\",\"aba\",\"radar\",\"level\"]"
   ]
  },
  {
   "cell_type": "code",
   "execution_count": 20,
   "id": "9429617b-2cf0-4b0f-9fbd-9bc6aa1ecb4e",
   "metadata": {},
   "outputs": [
    {
     "name": "stdout",
     "output_type": "stream",
     "text": [
      "['php', 'aba', 'radar', 'level']\n"
     ]
    }
   ],
   "source": [
    "palindrome=list(filter(lambda x:x[::-1]==x,l))\n",
    "print(palindrome)\n",
    "    \n"
   ]
  },
  {
   "cell_type": "code",
   "execution_count": null,
   "id": "51a5c881-3bcc-4927-9457-0c83f5de4d1e",
   "metadata": {},
   "outputs": [],
   "source": []
  }
 ],
 "metadata": {
  "kernelspec": {
   "display_name": "Python 3 (ipykernel)",
   "language": "python",
   "name": "python3"
  },
  "language_info": {
   "codemirror_mode": {
    "name": "ipython",
    "version": 3
   },
   "file_extension": ".py",
   "mimetype": "text/x-python",
   "name": "python",
   "nbconvert_exporter": "python",
   "pygments_lexer": "ipython3",
   "version": "3.10.8"
  }
 },
 "nbformat": 4,
 "nbformat_minor": 5
}
