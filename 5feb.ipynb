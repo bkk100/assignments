{
 "cells": [
  {
   "cell_type": "code",
   "execution_count": 1,
   "id": "34c9b265-ad54-49ad-a752-dd9c6c3e622f",
   "metadata": {},
   "outputs": [],
   "source": [
    "# 1 question- explain class and object with respect to object oriented programming.give example"
   ]
  },
  {
   "cell_type": "code",
   "execution_count": 4,
   "id": "225cbfe8-c6c6-4111-b2f4-8d5b94c7817c",
   "metadata": {},
   "outputs": [],
   "source": [
    "# answer1- a class is a template definations of methods and variables in a particular kind of object.\n",
    "#         thus, an object is a specific instance of class; as it contains real values instead of variables\n",
    "\n",
    "class bkk:\n",
    "    def __init__(bhu,friends,age):\n",
    "        bhu.friends=friends\n",
    "        bhu.age=age\n",
    "    \n",
    "    def ret(bhu):\n",
    "        return bhu.friends,bhu.age\n",
    "    \n",
    "    \n",
    "    "
   ]
  },
  {
   "cell_type": "code",
   "execution_count": 6,
   "id": "ab9911c8-561b-4e4c-ac29-75b9db8c3e3e",
   "metadata": {},
   "outputs": [],
   "source": [
    "b=bkk(\"shiv\",\"infinity\")"
   ]
  },
  {
   "cell_type": "code",
   "execution_count": 7,
   "id": "7dd8ab66-91a9-492d-a554-13b3009eacfc",
   "metadata": {},
   "outputs": [
    {
     "data": {
      "text/plain": [
       "'infinity'"
      ]
     },
     "execution_count": 7,
     "metadata": {},
     "output_type": "execute_result"
    }
   ],
   "source": [
    "b.age"
   ]
  },
  {
   "cell_type": "code",
   "execution_count": 9,
   "id": "7cd1bd35-ebe8-4ee5-8f90-ea88b93540b3",
   "metadata": {},
   "outputs": [
    {
     "name": "stdout",
     "output_type": "stream",
     "text": [
      "<bound method bkk.ret of <__main__.bkk object at 0x7fcecc39f730>>\n"
     ]
    }
   ],
   "source": [
    "print(b.ret)"
   ]
  },
  {
   "cell_type": "code",
   "execution_count": 10,
   "id": "8bda8ffc-aad2-4434-a478-d50b55529a68",
   "metadata": {},
   "outputs": [],
   "source": [
    "# here b is an object and bkk is class"
   ]
  },
  {
   "cell_type": "code",
   "execution_count": 11,
   "id": "35986a5e-4513-4e14-ad9a-92f7535a08fd",
   "metadata": {},
   "outputs": [],
   "source": [
    "# 2 question- name the four pillars of oops"
   ]
  },
  {
   "cell_type": "code",
   "execution_count": 21,
   "id": "a4e1bb30-57a6-408d-945f-b5915e4ab1cd",
   "metadata": {},
   "outputs": [],
   "source": [
    "# answer 2- four pillars are \n",
    "                #a- polymorphism\n",
    "                #b- inheritance\n",
    "                #c-encapsulation\n",
    "                #d-abstraction"
   ]
  },
  {
   "cell_type": "code",
   "execution_count": null,
   "id": "f2354681-25ff-4dbb-b534-6a334b42e160",
   "metadata": {},
   "outputs": [],
   "source": [
    "# 3 question- explain why the __init__()function is used.give example\n",
    "# answer-   __init__ is a reversed method in python classes. it is called as a constructor in object oriented terminology.\n",
    "#           this method is called when an object is created from a class and it allows the class to initialize the attributes of the class.\n",
    "\n"
   ]
  },
  {
   "cell_type": "code",
   "execution_count": 24,
   "id": "012fd2bf-daa1-48ca-b2e3-e217ce6a3d52",
   "metadata": {},
   "outputs": [],
   "source": [
    "class test:\n",
    "    \n",
    "    def __init__(self,a,b):\n",
    "        self.a=a\n",
    "        self.b=b\n",
    "        "
   ]
  },
  {
   "cell_type": "code",
   "execution_count": 25,
   "id": "b0b49aee-8f6f-4818-9529-be1aed712d14",
   "metadata": {},
   "outputs": [],
   "source": [
    "t=test(4,5)"
   ]
  },
  {
   "cell_type": "code",
   "execution_count": 26,
   "id": "2cedb9a5-af8b-49cf-afe6-b4c0b7ee6874",
   "metadata": {},
   "outputs": [
    {
     "data": {
      "text/plain": [
       "4"
      ]
     },
     "execution_count": 26,
     "metadata": {},
     "output_type": "execute_result"
    }
   ],
   "source": [
    "t.a"
   ]
  },
  {
   "cell_type": "code",
   "execution_count": 27,
   "id": "01a4f94c-244d-43e8-88a8-ef09794e29f2",
   "metadata": {},
   "outputs": [
    {
     "data": {
      "text/plain": [
       "5"
      ]
     },
     "execution_count": 27,
     "metadata": {},
     "output_type": "execute_result"
    }
   ],
   "source": [
    "t.b"
   ]
  },
  {
   "cell_type": "code",
   "execution_count": 1,
   "id": "755e7a46-bf30-4963-b88e-3e8152f22dff",
   "metadata": {},
   "outputs": [],
   "source": [
    "# 4 question- why self is used in opps"
   ]
  },
  {
   "cell_type": "code",
   "execution_count": 4,
   "id": "430554c7-6f7d-4cf2-9701-2d06700fcabc",
   "metadata": {},
   "outputs": [],
   "source": [
    "#answer- the self parameter is a reference to the current instanceof the class,\n",
    "#        and is used to access variables that belong to the class.\n",
    "class ra:\n",
    "    def __init__(self,a,b):\n",
    "        self.a=a\n",
    "        self.b=b\n",
    "        "
   ]
  },
  {
   "cell_type": "code",
   "execution_count": 5,
   "id": "ad9b1953-8c11-4af6-9c73-0edabbf4afdf",
   "metadata": {},
   "outputs": [],
   "source": [
    "r=ra(2,\"bkk\")"
   ]
  },
  {
   "cell_type": "code",
   "execution_count": 6,
   "id": "3c3308f2-0c8b-499f-bb16-ad7c94655517",
   "metadata": {},
   "outputs": [
    {
     "data": {
      "text/plain": [
       "'bkk'"
      ]
     },
     "execution_count": 6,
     "metadata": {},
     "output_type": "execute_result"
    }
   ],
   "source": [
    "r.b"
   ]
  },
  {
   "cell_type": "code",
   "execution_count": 7,
   "id": "691b6a73-f90d-4e00-a4fd-616b4e1463dc",
   "metadata": {},
   "outputs": [],
   "source": [
    "# 5 question- what is inheritance? give example of each type of inheritance\n"
   ]
  },
  {
   "cell_type": "code",
   "execution_count": 8,
   "id": "f9017863-fcd5-4015-b389-aedc20862964",
   "metadata": {},
   "outputs": [],
   "source": [
    "# answer- inheritance allows us to define a class that inherits all the methods and properties from another class.\n",
    "#         parent class is the class being inherited from, also called base class.\n",
    "#         child class is the class that inherits from another class, also called derived class\n"
   ]
  },
  {
   "cell_type": "code",
   "execution_count": 14,
   "id": "2dac181e-23f3-4c2e-afda-2d45074fc830",
   "metadata": {},
   "outputs": [],
   "source": [
    "# there are five types of inheritance in python"
   ]
  },
  {
   "cell_type": "code",
   "execution_count": 10,
   "id": "189775ff-7c20-4c61-bf3f-bf66f7f6db25",
   "metadata": {},
   "outputs": [
    {
     "name": "stdout",
     "output_type": "stream",
     "text": [
      "This function is in parent class.\n",
      "This function is in child class.\n"
     ]
    }
   ],
   "source": [
    "#   1-single inheritance\n",
    "# Python program to demonstrate\n",
    "# single inheritance\n",
    "\n",
    "# Base class\n",
    "class Parent:\n",
    "\tdef func1(self):\n",
    "\t\tprint(\"This function is in parent class.\")\n",
    "\n",
    "# Derived class\n",
    "\n",
    "\n",
    "class Child(Parent):\n",
    "\tdef func2(self):\n",
    "\t\tprint(\"This function is in child class.\")\n",
    "\n",
    "\n",
    "# Driver's code\n",
    "object = Child()\n",
    "object.func1()\n",
    "object.func2()\n"
   ]
  },
  {
   "cell_type": "code",
   "execution_count": 11,
   "id": "1724573f-78b3-4f97-b779-608e243306d2",
   "metadata": {},
   "outputs": [
    {
     "name": "stdout",
     "output_type": "stream",
     "text": [
      "Father : RAM\n",
      "Mother : SITA\n"
     ]
    }
   ],
   "source": [
    "#    2-multiple inheritance\n",
    "# Python program to demonstrate\n",
    "# multiple inheritance\n",
    "\n",
    "# Base class1\n",
    "class Mother:\n",
    "\tmothername = \"\"\n",
    "\n",
    "\tdef mother(self):\n",
    "\t\tprint(self.mothername)\n",
    "\n",
    "# Base class2\n",
    "\n",
    "\n",
    "class Father:\n",
    "\tfathername = \"\"\n",
    "\n",
    "\tdef father(self):\n",
    "\t\tprint(self.fathername)\n",
    "\n",
    "# Derived class\n",
    "\n",
    "\n",
    "class Son(Mother, Father):\n",
    "\tdef parents(self):\n",
    "\t\tprint(\"Father :\", self.fathername)\n",
    "\t\tprint(\"Mother :\", self.mothername)\n",
    "\n",
    "\n",
    "# Driver's code\n",
    "s1 = Son()\n",
    "s1.fathername = \"RAM\"\n",
    "s1.mothername = \"SITA\"\n",
    "s1.parents()\n",
    "\n"
   ]
  },
  {
   "cell_type": "code",
   "execution_count": 12,
   "id": "fb30d7d9-7432-41d9-9dc0-ac5d261f0aac",
   "metadata": {},
   "outputs": [
    {
     "name": "stdout",
     "output_type": "stream",
     "text": [
      "Lal mani\n",
      "Grandfather name : Lal mani\n",
      "Father name : Rampal\n",
      "Son name : Prince\n"
     ]
    }
   ],
   "source": [
    "#    3-multilevel inheritance\n",
    "# Python program to demonstrate\n",
    "# multilevel inheritance\n",
    "\n",
    "# Base class\n",
    "\n",
    "\n",
    "class Grandfather:\n",
    "\n",
    "\tdef __init__(self, grandfathername):\n",
    "\t\tself.grandfathername = grandfathername\n",
    "\n",
    "# Intermediate class\n",
    "\n",
    "\n",
    "class Father(Grandfather):\n",
    "\tdef __init__(self, fathername, grandfathername):\n",
    "\t\tself.fathername = fathername\n",
    "\n",
    "\t\t# invoking constructor of Grandfather class\n",
    "\t\tGrandfather.__init__(self, grandfathername)\n",
    "\n",
    "# Derived class\n",
    "\n",
    "\n",
    "class Son(Father):\n",
    "\tdef __init__(self, sonname, fathername, grandfathername):\n",
    "\t\tself.sonname = sonname\n",
    "\n",
    "\t\t# invoking constructor of Father class\n",
    "\t\tFather.__init__(self, fathername, grandfathername)\n",
    "\n",
    "\tdef print_name(self):\n",
    "\t\tprint('Grandfather name :', self.grandfathername)\n",
    "\t\tprint(\"Father name :\", self.fathername)\n",
    "\t\tprint(\"Son name :\", self.sonname)\n",
    "\n",
    "\n",
    "# Driver code\n",
    "s1 = Son('Prince', 'Rampal', 'Lal mani')\n",
    "print(s1.grandfathername)\n",
    "s1.print_name()\n"
   ]
  },
  {
   "cell_type": "code",
   "execution_count": 13,
   "id": "de3033a5-8415-423a-8d6c-4db76f89971c",
   "metadata": {},
   "outputs": [
    {
     "name": "stdout",
     "output_type": "stream",
     "text": [
      "This function is in parent class.\n",
      "This function is in child 1.\n",
      "This function is in parent class.\n",
      "This function is in child 2.\n"
     ]
    }
   ],
   "source": [
    "#     4-hiererchical inheritance\n",
    "# Python program to demonstrate\n",
    "# Hierarchical inheritance\n",
    "\n",
    "\n",
    "# Base class\n",
    "class Parent:\n",
    "\tdef func1(self):\n",
    "\t\tprint(\"This function is in parent class.\")\n",
    "\n",
    "# Derived class1\n",
    "\n",
    "\n",
    "class Child1(Parent):\n",
    "\tdef func2(self):\n",
    "\t\tprint(\"This function is in child 1.\")\n",
    "\n",
    "# Derivied class2\n",
    "\n",
    "\n",
    "class Child2(Parent):\n",
    "\tdef func3(self):\n",
    "\t\tprint(\"This function is in child 2.\")\n",
    "\n",
    "\n",
    "# Driver's code\n",
    "object1 = Child1()\n",
    "object2 = Child2()\n",
    "object1.func1()\n",
    "object1.func2()\n",
    "object2.func1()\n",
    "object2.func3()\n"
   ]
  },
  {
   "cell_type": "code",
   "execution_count": 15,
   "id": "b1f9e71e-34e1-428e-97c5-70d8be7c37f3",
   "metadata": {},
   "outputs": [
    {
     "name": "stdout",
     "output_type": "stream",
     "text": [
      "This function is in school.\n",
      "This function is in student 1. \n"
     ]
    }
   ],
   "source": [
    "#     5-hybrid inheritance\n",
    "# Python program to demonstrate\n",
    "# hybrid inheritance\n",
    "\n",
    "\n",
    "class School:\n",
    "\tdef func1(self):\n",
    "\t\tprint(\"This function is in school.\")\n",
    "\n",
    "\n",
    "class Student1(School):\n",
    "\tdef func2(self):\n",
    "\t\tprint(\"This function is in student 1. \")\n",
    "\n",
    "\n",
    "class Student2(School):\n",
    "\tdef func3(self):\n",
    "\t\tprint(\"This function is in student 2.\")\n",
    "\n",
    "\n",
    "class Student3(Student1, School):\n",
    "\tdef func4(self):\n",
    "\t\tprint(\"This function is in student 3.\")\n",
    "\n",
    "\n",
    "# Driver's code\n",
    "object = Student3()\n",
    "object.func1()\n",
    "object.func2()\n"
   ]
  },
  {
   "cell_type": "code",
   "execution_count": null,
   "id": "35994b07-93ba-4026-bf71-532eb557a8b4",
   "metadata": {},
   "outputs": [],
   "source": []
  }
 ],
 "metadata": {
  "kernelspec": {
   "display_name": "Python 3 (ipykernel)",
   "language": "python",
   "name": "python3"
  },
  "language_info": {
   "codemirror_mode": {
    "name": "ipython",
    "version": 3
   },
   "file_extension": ".py",
   "mimetype": "text/x-python",
   "name": "python",
   "nbconvert_exporter": "python",
   "pygments_lexer": "ipython3",
   "version": "3.10.8"
  }
 },
 "nbformat": 4,
 "nbformat_minor": 5
}
