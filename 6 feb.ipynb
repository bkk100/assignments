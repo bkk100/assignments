{
 "cells": [
  {
   "cell_type": "code",
   "execution_count": 1,
   "id": "d7b2d317-cc65-4d90-b9f2-f1a4db114427",
   "metadata": {},
   "outputs": [],
   "source": [
    "#Q1. Create a function which will take a list as an argument and return the product of all the numbers \n",
    "#after creating a flat list.\n",
    "\n",
    "#Use the below-given list as an argument for your function.\n",
    "\n",
    "\n",
    "#list1 = [1,2,3,4, [44,55,66, True], False, (34,56,78,89,34), {1,2,3,3,2,1}, {1:34, \"key2\": [55, 67, 78, 89], 4: (45, \n",
    "#22, 61, 34)}, [56, 'data science'], 'Machine Learning']\n",
    "\n",
    "\n",
    "#Note: you must extract numeric keys and values of the dictionary also"
   ]
  },
  {
   "cell_type": "code",
   "execution_count": 3,
   "id": "5b3bb9e6-cecf-478a-be90-709d7d9078b0",
   "metadata": {},
   "outputs": [
    {
     "name": "stdout",
     "output_type": "stream",
     "text": [
      "78718933113238978560\n"
     ]
    }
   ],
   "source": [
    "def product_of_numbers(lst):\n",
    "    flat_list = []\n",
    "    for item in lst:\n",
    "        if type(item) == list or type(item) == tuple or type(item) == set:\n",
    "            flat_list.extend([i for i in item if type(i) == int or type(i) == float])\n",
    "        elif type(item) == dict:\n",
    "            for key, value in item.items():\n",
    "                if type(key) == int or type(key) == float:\n",
    "                    flat_list.append(key)\n",
    "                if type(value) == int or type(value) == float:\n",
    "                    flat_list.append(value)\n",
    "        elif type(item) == int or type(item) == float:\n",
    "            flat_list.append(item)\n",
    "    product = 1\n",
    "    for num in flat_list:\n",
    "        product *= num\n",
    "    return product\n",
    "list1 = [1,2,3,4, [44,55,66, True], False, (34,56,78,89,34), {1,2,3,3,2,1}, {1:34, \"key2\": [55, 67, 78, 89], 4: (45, \n",
    "22, 61, 34)}, [56, 'data science'], 'Machine Learning']\n",
    "\n",
    "result = product_of_numbers(list1)\n",
    "print(result)"
   ]
  },
  {
   "cell_type": "code",
   "execution_count": 6,
   "id": "97b30b08-e5c2-40e9-a74f-7217e26fffdb",
   "metadata": {},
   "outputs": [],
   "source": [
    "#Q2. Write a python program for encrypting a message sent to you by your friend. The logic of encryption \n",
    "#should be such that, for a the output should be z. For b, the output should be y. For c, the output should \n",
    "#be x respectively. Also, the whitespace should be replaced with a dollar sign. Keep the punctuation \n",
    "#marks unchanged.\n",
    "\n",
    "\n",
    "#Input Sentence: I want to become a Data Scientist.\n",
    "\n",
    "\n",
    "#Encrypt the above input sentence using the program you just created.\n",
    "\n",
    "\n",
    "#Note: Convert the given input sentence into lowercase before encrypting. The final output should be \n",
    "#lowercase."
   ]
  },
  {
   "cell_type": "code",
   "execution_count": 7,
   "id": "10a16242-14bf-4f85-a4f6-e8f7037d45d7",
   "metadata": {},
   "outputs": [
    {
     "name": "stdout",
     "output_type": "stream",
     "text": [
      "r$dzmg$gl$yvxlnv$z$wzgz$hxrvmgrhg.\n"
     ]
    }
   ],
   "source": [
    "def encrypt_message(message):\n",
    "    # Convert message to lowercase\n",
    "    message = message.lower()\n",
    "    # Create a mapping of letters to their encrypted counterparts\n",
    "    mapping = str.maketrans('abcdefghijklmnopqrstuvwxyz ', 'zyxwvutsrqponmlkjihgfedcba$')\n",
    "    # Apply the mapping to the message and return the result\n",
    "    return message.translate(mapping)\n",
    "\n",
    "# Test the function with the given input sentence\n",
    "input_sentence = \"I want to become a Data Scientist.\"\n",
    "encrypted_sentence = encrypt_message(input_sentence)\n",
    "print(encrypted_sentence)"
   ]
  },
  {
   "cell_type": "code",
   "execution_count": null,
   "id": "97638126-3c3c-4653-b603-8514e720de17",
   "metadata": {},
   "outputs": [],
   "source": []
  }
 ],
 "metadata": {
  "kernelspec": {
   "display_name": "Python 3 (ipykernel)",
   "language": "python",
   "name": "python3"
  },
  "language_info": {
   "codemirror_mode": {
    "name": "ipython",
    "version": 3
   },
   "file_extension": ".py",
   "mimetype": "text/x-python",
   "name": "python",
   "nbconvert_exporter": "python",
   "pygments_lexer": "ipython3",
   "version": "3.10.8"
  }
 },
 "nbformat": 4,
 "nbformat_minor": 5
}
